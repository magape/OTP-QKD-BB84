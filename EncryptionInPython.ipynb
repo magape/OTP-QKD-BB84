# Encryption in Python

**_Mihai Agape_**

## Import Python Modules

from random import choice

## Encryption Function

def encrypt(message, key):
  '''
  Encrypts the message with the key using OTP (One Time Pad) algorithm.
  Each character of the message is coded with 7 bits.
  The key is a bitstring 7 times longer than the message.
  The function doesn't check the arguments' values.

  Parameters
  ----------
  message : ASCII string
    The message that sender (e.g. Alice) wants to send to receiver (e.g. Bob).
  key : bitstring
    The key is generated using the QKD BB84 protocol.

  Returns
  -------
  ASCII string
    The returned string is the cipher resulted as XOR between message and key.
  '''

  # Convert ASCII message to bitstring (one char is encoded with 7 bits)
  bitstring_message = ''.join([f'{ord(char):07b}' for char in message])

  # Perform XOR bitwise between message and key
  bitstring_cipher = ''.join(str(int(m) ^ int(k)) for m, k in zip(bitstring_message, key))

  # Convert bitstring to ASCII text, i.e. ciphertext
  ciphertext = ''.join(chr(int(bitstring_cipher[i:i+7], 2)) for i in
                range(0, len(bitstring_cipher), 7))

  return ciphertext  # encrypted_message coded as ASCII text

## Decryption Function

def decrypt(ciphertext, key):
  '''
  Decrypts the message with the key using OTP (One Time Pad) algorithm.
  Each character of the message is coded with 7 bits.
  The key is a bitstring 7 times longer than the message.
  The function doesn't check the parameters' values.

  Parameters
  ----------
  message : ASCII string
    The message that Alice wants to send to Bob.
  key : bitstring
    The key is generated using the QKD BB84 protocol.

  Returns
  -------
  ASCII string
    The returned string is the cipher resulted as XOR between message and key.
  '''

  return encrypt(ciphertext, key)

## Testing Encryption and Decryption Functions

message = 'QKD: quantum key, ultimate secrecy.'
key = ''.join(choice('01') for _ in range(7 * len(message)))
ciphertext = encrypt(message, key)
plain_text = decrypt(ciphertext, key)

print(f'message: \t\t{message}')
print(f'key (bitstring): \t{key}')
print(f'key (ASCII): \t\t{"".join(chr(int(key[i:i+7], 2)) for i in range(0, len(key), 7))}')
print(f'ciphertext: \t\t{ciphertext}')
print(f'plaintext: \t\t{plain_text}')

## Get Message from Sender

def input_message():
  '''
  Get ASCII message from the user
  '''
  while True:
    # request message from the user
    message = input('Enter the message using just ASCII characters:\n')
    # chef if the message is in ASCII
    is_ascii = all(ord(char) < 128 for char in message)
    if not is_ascii:
      # create a list with the non ASCII characters
      non_ascii = ''.join(char if ord(char) > 127 else '' for char in message)
      print(f"Your message includes next non ASCII characters: {non_ascii}\n")
    else:
      return message

input_message()

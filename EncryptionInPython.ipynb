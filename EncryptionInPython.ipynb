{
  "nbformat": 4,
  "nbformat_minor": 0,
  "metadata": {
    "colab": {
      "provenance": [],
      "authorship_tag": "ABX9TyN85zh+UnVb/x0xXD5bxfgh",
      "include_colab_link": true
    },
    "kernelspec": {
      "name": "python3",
      "display_name": "Python 3"
    },
    "language_info": {
      "name": "python"
    }
  },
  "cells": [
    {
      "cell_type": "markdown",
      "metadata": {
        "id": "view-in-github",
        "colab_type": "text"
      },
      "source": [
        "<a href=\"https://colab.research.google.com/github/magape/OTP-QKD-BB84/blob/main/EncryptionInPython.ipynb\" target=\"_parent\"><img src=\"https://colab.research.google.com/assets/colab-badge.svg\" alt=\"Open In Colab\"/></a>"
      ]
    },
    {
      "cell_type": "markdown",
      "source": [
        "# Encryption in Python\n",
        "\n",
        "**_Mihai Agape_**"
      ],
      "metadata": {
        "id": "BeiGiuE8LTLS"
      }
    },
    {
      "cell_type": "markdown",
      "source": [
        "## Import Python Modules"
      ],
      "metadata": {
        "id": "3a5Nl8fSQoRR"
      }
    },
    {
      "cell_type": "code",
      "source": [
        "from random import choice"
      ],
      "metadata": {
        "id": "M9W-6fJfQaGP"
      },
      "execution_count": 1,
      "outputs": []
    },
    {
      "cell_type": "markdown",
      "source": [
        "## Encryption Function"
      ],
      "metadata": {
        "id": "up0c_mz_2Zn5"
      }
    },
    {
      "cell_type": "code",
      "source": [
        "def encrypt(message, key):\n",
        "  '''\n",
        "  Encrypts the message with the key using OTP (One Time Pad) algorithm.\n",
        "  Each character of the message is coded with 7 bits.\n",
        "  The key is a bitstring 7 times longer than the message.\n",
        "  The function doesn't check the arguments' values.\n",
        "\n",
        "  Parameters\n",
        "  ----------\n",
        "  message : ASCII string\n",
        "    The message that sender (e.g. Alice) wants to send to receiver (e.g. Bob).\n",
        "  key : bitstring\n",
        "    The key is generated using the QKD BB84 protocol.\n",
        "\n",
        "  Returns\n",
        "  -------\n",
        "  ASCII string\n",
        "    The returned string is the cipher resulted as XOR between message and key.\n",
        "  '''\n",
        "\n",
        "  # Convert ASCII message to bitstring (one char is encoded with 7 bits)\n",
        "  bitstring_message = ''.join([f'{ord(char):07b}' for char in message])\n",
        "\n",
        "  # Perform XOR bitwise between message and key\n",
        "  bitstring_cipher = ''.join(str(int(m) ^ int(k)) for m, k in zip(bitstring_message, key))\n",
        "\n",
        "  # Convert bitstring to ASCII text, i.e. ciphertext\n",
        "  ciphertext = ''.join(chr(int(bitstring_cipher[i:i+7], 2)) for i in\n",
        "                range(0, len(bitstring_cipher), 7))\n",
        "\n",
        "  return ciphertext  # encrypted_message coded as ASCII text"
      ],
      "metadata": {
        "id": "EHD6Qq_MM4XG"
      },
      "execution_count": 2,
      "outputs": []
    },
    {
      "cell_type": "markdown",
      "source": [
        "## Decryption Function"
      ],
      "metadata": {
        "id": "g433nMYY2wVo"
      }
    },
    {
      "cell_type": "code",
      "source": [
        "def decrypt(ciphertext, key):\n",
        "  '''\n",
        "  Decrypts the message with the key using OTP (One Time Pad) algorithm.\n",
        "  Each character of the message is coded with 7 bits.\n",
        "  The key is a bitstring 7 times longer than the message.\n",
        "  The function doesn't check the parameters' values.\n",
        "\n",
        "  Parameters\n",
        "  ----------\n",
        "  message : ASCII string\n",
        "    The message that Alice wants to send to Bob.\n",
        "  key : bitstring\n",
        "    The key is generated using the QKD BB84 protocol.\n",
        "\n",
        "  Returns\n",
        "  -------\n",
        "  ASCII string\n",
        "    The returned string is the cipher resulted as XOR between message and key.\n",
        "  '''\n",
        "\n",
        "  return encrypt(ciphertext, key)"
      ],
      "metadata": {
        "id": "7EC5d7Z3On69"
      },
      "execution_count": 3,
      "outputs": []
    },
    {
      "cell_type": "markdown",
      "source": [
        "## Testing Encryption and Decryption Functions"
      ],
      "metadata": {
        "id": "FJVbYFPd22fG"
      }
    },
    {
      "cell_type": "code",
      "source": [
        "message = 'QKD: quantum key, ultimate secrecy.'\n",
        "key = ''.join(choice('01') for _ in range(7 * len(message)))\n",
        "ciphertext = encrypt(message, key)\n",
        "plain_text = decrypt(ciphertext, key)\n",
        "\n",
        "print(f'message: \\t\\t{message}')\n",
        "print(f'key (bitstring): \\t{key}')\n",
        "print(f'key (ASCII): \\t\\t{\"\".join(chr(int(key[i:i+7], 2)) for i in range(0, len(key), 7))}')\n",
        "print(f'ciphertext: \\t\\t{ciphertext}')\n",
        "print(f'plaintext: \\t\\t{plain_text}')"
      ],
      "metadata": {
        "id": "2MVhi62ZRBaR",
        "colab": {
          "base_uri": "https://localhost:8080/"
        },
        "outputId": "853cabe4-ecb2-4716-ee42-3e0bcdde220c"
      },
      "execution_count": 12,
      "outputs": [
        {
          "output_type": "stream",
          "name": "stdout",
          "text": [
            "message: \t\tQKD: quantum key, ultimate secrecy.\n",
            "key (bitstring): \t11110000110001111001000100101001011110000101111111100101001110000001111101101110010100001100101010011011001100100000101110101111001110011100010000011100101000100001001101000010010011010001001110101101110101001010101110000010110010001111000010110\n",
            "key (ASCII): \t\tx1r\u0012Ka?e\u001c\u0007me\u0006*62\u0005kg\u001c rD\u0013!\u0013\":nRW\u0002d<\u0016\n",
            "ciphertext: \t\t)z6(k\u0010J\u0004rs\u0018\b&ASK)K\u0012pT\u001b)rUv\u0002I\u000b1%g\u0007E8\n",
            "plaintext: \t\tQKD: quantum key, ultimate secrecy.\n"
          ]
        }
      ]
    },
    {
      "cell_type": "markdown",
      "source": [
        "## Get Message from Sender"
      ],
      "metadata": {
        "id": "YVxuftebXgxY"
      }
    },
    {
      "cell_type": "code",
      "source": [
        "def input_message():\n",
        "  '''\n",
        "  Get ASCII message from the user\n",
        "  '''\n",
        "  while True:\n",
        "    # request message from the user\n",
        "    message = input('Enter the message using just ASCII characters:\\n')\n",
        "    # chef if the message is in ASCII\n",
        "    is_ascii = all(ord(char) < 128 for char in message)\n",
        "    if not is_ascii:\n",
        "      # create a list with the non ASCII characters\n",
        "      non_ascii = ''.join(char if ord(char) > 127 else '' for char in message)\n",
        "      print(f\"Your message includes next non ASCII characters: {non_ascii}\\n\")\n",
        "    else:\n",
        "      return message"
      ],
      "metadata": {
        "id": "8n-VoHqQQ9xg"
      },
      "execution_count": 24,
      "outputs": []
    },
    {
      "cell_type": "code",
      "source": [
        "input_message()"
      ],
      "metadata": {
        "colab": {
          "base_uri": "https://localhost:8080/",
          "height": 144
        },
        "id": "IUaquWxjmfoj",
        "outputId": "4667e4f6-7160-4449-8626-088b77a694d3"
      },
      "execution_count": 26,
      "outputs": [
        {
          "name": "stdout",
          "output_type": "stream",
          "text": [
            "Enter the message using just ASCII characters:\n",
            "asdțflkjalkdsțțșlkțșlk\n",
            "Your message includes next non ASCII characters: țțțșțș\n",
            "\n",
            "Enter the message using just ASCII characters:\n",
            "asdf\n"
          ]
        },
        {
          "output_type": "execute_result",
          "data": {
            "text/plain": [
              "'asdf'"
            ],
            "application/vnd.google.colaboratory.intrinsic+json": {
              "type": "string"
            }
          },
          "metadata": {},
          "execution_count": 26
        }
      ]
    }
  ]
}